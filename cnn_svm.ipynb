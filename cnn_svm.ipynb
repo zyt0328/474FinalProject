{
 "cells": [
  {
   "cell_type": "markdown",
   "metadata": {},
   "source": []
  },
  {
   "cell_type": "code",
   "execution_count": 93,
   "metadata": {},
   "outputs": [],
   "source": [
    "import numpy as np\n",
    "import tensorflow as tf\n",
    "import matplotlib.pyplot as plt\n",
    "from tensorflow.keras.preprocessing.image import ImageDataGenerator\n",
    "from tensorflow.keras.layers import Conv2D, MaxPooling2D, Dense, Flatten, Dropout, BatchNormalization\n",
    "from tensorflow.keras.utils import to_categorical\n",
    "from tensorflow.keras.models import Sequential\n",
    "from sklearn import metrics\n",
    "from tensorflow.keras.optimizers import Adam\n",
    "from sklearn.svm import LinearSVC\n",
    "from keras.models import Model\n"
   ]
  },
  {
   "cell_type": "code",
   "execution_count": 94,
   "metadata": {},
   "outputs": [
    {
     "name": "stdout",
     "output_type": "stream",
     "text": [
      "Found 24998 images belonging to 2 classes.\n",
      "(1, 64, 64, 1)\n",
      "Found 9471 images belonging to 2 classes.\n"
     ]
    }
   ],
   "source": [
    "# Image data preprocecing\n",
    "train_path = './Train'\n",
    "test_path = './Test'\n",
    "imgDataGen = ImageDataGenerator(rescale=1.0/255)\n",
    "train = imgDataGen.flow_from_directory(train_path,  color_mode ='grayscale', target_size = (64, 64), batch_size = 1, class_mode = 'binary')\n",
    "print(train[0][0].shape)\n",
    "test = imgDataGen.flow_from_directory(test_path,  color_mode ='grayscale', target_size = (64, 64), batch_size = 1, class_mode = 'binary')"
   ]
  },
  {
   "cell_type": "code",
   "execution_count": 95,
   "metadata": {},
   "outputs": [
    {
     "data": {
      "text/plain": [
       "<matplotlib.image.AxesImage at 0x7f81e9764970>"
      ]
     },
     "execution_count": 95,
     "metadata": {},
     "output_type": "execute_result"
    },
    {
     "data": {
      "image/png": "[encoded data removed]",
      "text/plain": [
       "<Figure size 432x288 with 1 Axes>"
      ]
     },
     "metadata": {
      "needs_background": "light"
     },
     "output_type": "display_data"
    }
   ],
   "source": [
    "plt.imshow(train[0][0][0])"
   ]
  },
  {
   "cell_type": "code",
   "execution_count": 96,
   "metadata": {},
   "outputs": [],
   "source": [
    "# Using the sequence model, build a CNN\n",
    "# pre trained model\n",
    "model = Sequential()\n",
    "\n",
    "model.add(Conv2D(32,(3, 3), activation = 'relu', padding = 'same',input_shape = (64, 64, 1)))\n",
    "model.add(MaxPooling2D((2,2)))\n",
    "model.add(BatchNormalization())\n",
    "\n",
    "\n",
    "model.add(Conv2D(64,(3, 3), activation = 'relu', padding = 'same'))\n",
    "model.add(MaxPooling2D((2,2)))\n",
    "model.add(BatchNormalization())\n",
    "\n",
    "model.add(Conv2D(128,(3, 3), activation = 'relu', padding = 'same'))\n",
    "model.add(MaxPooling2D((2,2)))\n",
    "model.add(BatchNormalization())\n",
    "\n",
    "model.add(Conv2D(64,(3, 3), activation = 'relu', padding = 'same'))\n",
    "model.add(MaxPooling2D((2,2)))\n",
    "model.add(BatchNormalization())\n",
    "\n",
    "model.add(Conv2D(32,(3, 3), activation = 'relu', padding = 'same'))\n",
    "model.add(MaxPooling2D((2,2)))\n",
    "model.add(BatchNormalization())\n",
    "\n",
    "\n",
    "model.add(Flatten())\n",
    "model.add(Dense(1024, activation = 'relu'))\n",
    "model.add(Dropout(0.1))\n",
    "model.add(Dense(128, activation = 'relu'))\n",
    "model.add(Dropout(0.1))\n",
    "model.add(Dense(1, activation = 'sigmoid'))\n",
    "\n",
    "\n",
    "\n"
   ]
  },
  {
   "cell_type": "markdown",
   "metadata": {},
   "source": [
    "Compile the model"
   ]
  },
  {
   "cell_type": "code",
   "execution_count": 97,
   "metadata": {},
   "outputs": [
    {
     "name": "stdout",
     "output_type": "stream",
     "text": [
      "Model: \"sequential_8\"\n",
      "_________________________________________________________________\n",
      " Layer (type)                Output Shape              Param #   \n",
      "=================================================================\n",
      " conv2d_32 (Conv2D)          (None, 64, 64, 32)        320       \n",
      "                                                                 \n",
      " max_pooling2d_32 (MaxPoolin  (None, 32, 32, 32)       0         \n",
      " g2D)                                                            \n",
      "                                                                 \n",
      " batch_normalization_32 (Bat  (None, 32, 32, 32)       128       \n",
      " chNormalization)                                                \n",
      "                                                                 \n",
      " conv2d_33 (Conv2D)          (None, 32, 32, 64)        18496     \n",
      "                                                                 \n",
      " max_pooling2d_33 (MaxPoolin  (None, 16, 16, 64)       0         \n",
      " g2D)                                                            \n",
      "                                                                 \n",
      " batch_normalization_33 (Bat  (None, 16, 16, 64)       256       \n",
      " chNormalization)                                                \n",
      "                                                                 \n",
      " conv2d_34 (Conv2D)          (None, 16, 16, 128)       73856     \n",
      "                                                                 \n",
      " max_pooling2d_34 (MaxPoolin  (None, 8, 8, 128)        0         \n",
      " g2D)                                                            \n",
      "                                                                 \n",
      " batch_normalization_34 (Bat  (None, 8, 8, 128)        512       \n",
      " chNormalization)                                                \n",
      "                                                                 \n",
      " conv2d_35 (Conv2D)          (None, 8, 8, 64)          73792     \n",
      "                                                                 \n",
      " max_pooling2d_35 (MaxPoolin  (None, 4, 4, 64)         0         \n",
      " g2D)                                                            \n",
      "                                                                 \n",
      " batch_normalization_35 (Bat  (None, 4, 4, 64)         256       \n",
      " chNormalization)                                                \n",
      "                                                                 \n",
      " conv2d_36 (Conv2D)          (None, 4, 4, 32)          18464     \n",
      "                                                                 \n",
      " max_pooling2d_36 (MaxPoolin  (None, 2, 2, 32)         0         \n",
      " g2D)                                                            \n",
      "                                                                 \n",
      " batch_normalization_36 (Bat  (None, 2, 2, 32)         128       \n",
      " chNormalization)                                                \n",
      "                                                                 \n",
      " flatten_8 (Flatten)         (None, 128)               0         \n",
      "                                                                 \n",
      " dense_21 (Dense)            (None, 1024)              132096    \n",
      "                                                                 \n",
      " dropout_13 (Dropout)        (None, 1024)              0         \n",
      "                                                                 \n",
      " dense_22 (Dense)            (None, 128)               131200    \n",
      "                                                                 \n",
      " dropout_14 (Dropout)        (None, 128)               0         \n",
      "                                                                 \n",
      " dense_23 (Dense)            (None, 1)                 129       \n",
      "                                                                 \n",
      "=================================================================\n",
      "Total params: 449,633\n",
      "Trainable params: 448,993\n",
      "Non-trainable params: 640\n",
      "_________________________________________________________________\n",
      "21\n"
     ]
    }
   ],
   "source": [
    "# Define learning rate and iterations\n",
    "lr = 0.0002\n",
    "opt = Adam(learning_rate = lr)\n",
    "model.compile(optimizer= opt, loss = 'binary_crossentropy', metrics=['accuracy'])\n",
    "model.summary()\n",
    "print(len(model.layers))"
   ]
  },
  {
   "cell_type": "code",
   "execution_count": 98,
   "metadata": {},
   "outputs": [
    {
     "name": "stdout",
     "output_type": "stream",
     "text": [
      "Epoch 1/10\n",
      "13992/24998 [===============>..............] - ETA: 59s - loss: 0.6252 - accuracy: 0.6459"
     ]
    },
    {
     "name": "stderr",
     "output_type": "stream",
     "text": [
      "/Users/yuminglu/opt/anaconda3/lib/python3.9/site-packages/PIL/TiffImagePlugin.py:822: UserWarning: Truncated File Read\n",
      "  warnings.warn(str(msg))\n"
     ]
    },
    {
     "name": "stdout",
     "output_type": "stream",
     "text": [
      "24998/24998 [==============================] - 156s 6ms/step - loss: 0.5847 - accuracy: 0.6846 - val_loss: 0.5514 - val_accuracy: 0.7236\n",
      "Epoch 2/10\n",
      "24998/24998 [==============================] - 156s 6ms/step - loss: 0.4476 - accuracy: 0.7943 - val_loss: 0.4883 - val_accuracy: 0.7632\n",
      "Epoch 3/10\n",
      "24998/24998 [==============================] - 156s 6ms/step - loss: 0.3648 - accuracy: 0.8385 - val_loss: 0.4546 - val_accuracy: 0.7984\n",
      "Epoch 4/10\n",
      "24998/24998 [==============================] - 157s 6ms/step - loss: 0.3074 - accuracy: 0.8672 - val_loss: 0.3611 - val_accuracy: 0.8496\n",
      "Epoch 5/10\n",
      "24998/24998 [==============================] - 155s 6ms/step - loss: 0.2525 - accuracy: 0.8953 - val_loss: 0.3642 - val_accuracy: 0.8460\n",
      "Epoch 6/10\n",
      "24998/24998 [==============================] - 155s 6ms/step - loss: 0.2021 - accuracy: 0.9171 - val_loss: 0.3741 - val_accuracy: 0.8531\n",
      "Epoch 7/10\n",
      "24998/24998 [==============================] - 155s 6ms/step - loss: 0.1633 - accuracy: 0.9330 - val_loss: 0.2849 - val_accuracy: 0.8813\n",
      "Epoch 8/10\n",
      "24998/24998 [==============================] - 155s 6ms/step - loss: 0.1310 - accuracy: 0.9485 - val_loss: 0.3366 - val_accuracy: 0.8472\n",
      "Epoch 9/10\n",
      "24998/24998 [==============================] - 155s 6ms/step - loss: 0.1107 - accuracy: 0.9592 - val_loss: 0.2282 - val_accuracy: 0.9136\n",
      "Epoch 10/10\n",
      "24998/24998 [==============================] - 156s 6ms/step - loss: 0.0958 - accuracy: 0.9642 - val_loss: 0.2359 - val_accuracy: 0.9120\n"
     ]
    },
    {
     "data": {
      "text/plain": [
       "<keras.callbacks.History at 0x7f82382f2c10>"
      ]
     },
     "execution_count": 98,
     "metadata": {},
     "output_type": "execute_result"
    }
   ],
   "source": [
    "model.fit(train, validation_data= test,epochs= 10, verbose= 1)"
   ]
  },
  {
   "cell_type": "code",
   "execution_count": 99,
   "metadata": {},
   "outputs": [
    {
     "name": "stdout",
     "output_type": "stream",
     "text": [
      "Model: \"model_4\"\n",
      "_________________________________________________________________\n",
      " Layer (type)                Output Shape              Param #   \n",
      "=================================================================\n",
      " conv2d_32_input (InputLayer  [(None, 64, 64, 1)]      0         \n",
      " )                                                               \n",
      "                                                                 \n",
      " conv2d_32 (Conv2D)          (None, 64, 64, 32)        320       \n",
      "                                                                 \n",
      " max_pooling2d_32 (MaxPoolin  (None, 32, 32, 32)       0         \n",
      " g2D)                                                            \n",
      "                                                                 \n",
      " batch_normalization_32 (Bat  (None, 32, 32, 32)       128       \n",
      " chNormalization)                                                \n",
      "                                                                 \n",
      " conv2d_33 (Conv2D)          (None, 32, 32, 64)        18496     \n",
      "                                                                 \n",
      " max_pooling2d_33 (MaxPoolin  (None, 16, 16, 64)       0         \n",
      " g2D)                                                            \n",
      "                                                                 \n",
      " batch_normalization_33 (Bat  (None, 16, 16, 64)       256       \n",
      " chNormalization)                                                \n",
      "                                                                 \n",
      " conv2d_34 (Conv2D)          (None, 16, 16, 128)       73856     \n",
      "                                                                 \n",
      " max_pooling2d_34 (MaxPoolin  (None, 8, 8, 128)        0         \n",
      " g2D)                                                            \n",
      "                                                                 \n",
      " batch_normalization_34 (Bat  (None, 8, 8, 128)        512       \n",
      " chNormalization)                                                \n",
      "                                                                 \n",
      " conv2d_35 (Conv2D)          (None, 8, 8, 64)          73792     \n",
      "                                                                 \n",
      " max_pooling2d_35 (MaxPoolin  (None, 4, 4, 64)         0         \n",
      " g2D)                                                            \n",
      "                                                                 \n",
      " batch_normalization_35 (Bat  (None, 4, 4, 64)         256       \n",
      " chNormalization)                                                \n",
      "                                                                 \n",
      " conv2d_36 (Conv2D)          (None, 4, 4, 32)          18464     \n",
      "                                                                 \n",
      " max_pooling2d_36 (MaxPoolin  (None, 2, 2, 32)         0         \n",
      " g2D)                                                            \n",
      "                                                                 \n",
      " batch_normalization_36 (Bat  (None, 2, 2, 32)         128       \n",
      " chNormalization)                                                \n",
      "                                                                 \n",
      " flatten_8 (Flatten)         (None, 128)               0         \n",
      "                                                                 \n",
      "=================================================================\n",
      "Total params: 186,208\n",
      "Trainable params: 185,568\n",
      "Non-trainable params: 640\n",
      "_________________________________________________________________\n",
      "17\n"
     ]
    }
   ],
   "source": [
    "\n",
    "model2= Model(inputs=model.input, outputs=model.layers[-6].output)\n",
    "model2.summary()\n",
    "print(len(model2.layers))"
   ]
  },
  {
   "cell_type": "code",
   "execution_count": 100,
   "metadata": {},
   "outputs": [
    {
     "name": "stdout",
     "output_type": "stream",
     "text": [
      "24998\n"
     ]
    }
   ],
   "source": [
    "train_y = []\n",
    "\n",
    "for i in range(len(train)):\n",
    "    train_y.append(train[i][1])\n",
    "print(len(train_y))"
   ]
  },
  {
   "cell_type": "code",
   "execution_count": 101,
   "metadata": {},
   "outputs": [],
   "source": [
    "test_y = []\n",
    "for i in range(len(test)):\n",
    "    test_y.append(test[i][1])\n",
    "\n"
   ]
  },
  {
   "cell_type": "code",
   "execution_count": 102,
   "metadata": {},
   "outputs": [
    {
     "name": "stdout",
     "output_type": "stream",
     "text": [
      "24998/24998 [==============================] - 57s 2ms/step\n",
      "9471/9471 [==============================] - 21s 2ms/step\n",
      "(24998, 128)\n"
     ]
    }
   ],
   "source": [
    "predictions_train = model2.predict(train)\n",
    "predictions_test = model2.predict(test)\n",
    "print(predictions_train.shape)\n",
    "\n"
   ]
  },
  {
   "cell_type": "code",
   "execution_count": 103,
   "metadata": {},
   "outputs": [
    {
     "name": "stderr",
     "output_type": "stream",
     "text": [
      "/Users/yuminglu/opt/anaconda3/lib/python3.9/site-packages/sklearn/utils/validation.py:993: DataConversionWarning: A column-vector y was passed when a 1d array was expected. Please change the shape of y to (n_samples, ), for example using ravel().\n",
      "  y = column_or_1d(y, warn=True)\n"
     ]
    },
    {
     "name": "stdout",
     "output_type": "stream",
     "text": [
      "Accuracy (%): 93.46425931791785 %\n"
     ]
    }
   ],
   "source": [
    "classifer = LinearSVC(C = 1e-2, max_iter=10000)\n",
    "classifer.fit(predictions_train,train_y)\n",
    "pred = classifer.predict(predictions_test)\n",
    "print(\"Accuracy (%):\",metrics.accuracy_score(pred, test_y)*100,\"%\")"
   ]
  }
 ],
 "metadata": {
  "kernelspec": {
   "display_name": "Python 3.10.0 64-bit",
   "language": "python",
   "name": "python3"
  },
  "language_info": {
   "codemirror_mode": {
    "name": "ipython",
    "version": 3
   },
   "file_extension": ".py",
   "mimetype": "text/x-python",
   "name": "python",
   "nbconvert_exporter": "python",
   "pygments_lexer": "ipython3",
   "version": "3.10.0"
  },
  "orig_nbformat": 4,
  "vscode": {
   "interpreter": {
    "hash": "aee8b7b246df8f9039afb4144a1f6fd8d2ca17a180786b69acc140d282b71a49"
   }
  }
 },
 "nbformat": 4,
 "nbformat_minor": 2
}
